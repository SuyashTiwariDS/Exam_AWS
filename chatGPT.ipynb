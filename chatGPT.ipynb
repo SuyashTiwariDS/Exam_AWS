{
 "cells": [
  {
   "cell_type": "code",
   "execution_count": 1,
   "id": "769181f8",
   "metadata": {},
   "outputs": [
    {
     "name": "stdout",
     "output_type": "stream",
     "text": [
      "You are 25 years old.\n",
      "You are -3 years old.\n"
     ]
    }
   ],
   "source": [
    "from datetime import datetime\n",
    "\n",
    "def calculate_age(born):\n",
    "    today = datetime.today()\n",
    "    return today.year - born.year - ((today.month, today.day) < (born.month, born.day))\n",
    "\n",
    "# Test with a birthday in the past\n",
    "born = datetime(1997, 2, 3)\n",
    "age = calculate_age(born)\n",
    "print(f\"You are {age} years old.\")\n",
    "\n",
    "# Test with a birthday in the future\n",
    "born = datetime(2025, 2, 3)\n",
    "age = calculate_age(born)\n",
    "print(f\"You are {age} years old.\")"
   ]
  },
  {
   "cell_type": "code",
   "execution_count": null,
   "id": "ab2410a9",
   "metadata": {},
   "outputs": [],
   "source": []
  }
 ],
 "metadata": {
  "kernelspec": {
   "display_name": "Python 3 (ipykernel)",
   "language": "python",
   "name": "python3"
  },
  "language_info": {
   "codemirror_mode": {
    "name": "ipython",
    "version": 3
   },
   "file_extension": ".py",
   "mimetype": "text/x-python",
   "name": "python",
   "nbconvert_exporter": "python",
   "pygments_lexer": "ipython3",
   "version": "3.9.12"
  }
 },
 "nbformat": 4,
 "nbformat_minor": 5
}
